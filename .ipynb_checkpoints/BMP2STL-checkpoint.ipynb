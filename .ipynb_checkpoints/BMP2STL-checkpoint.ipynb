{
 "metadata": {
  "name": "",
  "signature": "sha256:59ba43c2cf26e43418a85696d7f93d8af83a022d23214c3067fb66f0814639d3"
 },
 "nbformat": 3,
 "nbformat_minor": 0,
 "worksheets": [
  {
   "cells": [
    {
     "cell_type": "code",
     "collapsed": false,
     "input": [
      "from PIL import Image\n",
      "import numpy as np\n",
      "import csv\n",
      "import os\n",
      "import struct\n"
     ],
     "language": "python",
     "metadata": {},
     "outputs": [],
     "prompt_number": 50
    },
    {
     "cell_type": "code",
     "collapsed": false,
     "input": [
      "### SET Directory HERE \n",
      "myDirectory = 'C:/Users/Ahmed/Anaconda/BMP2STL/test stack'\n",
      "### SET z-HEIGHT HERE \n",
      "myZHeight = 1"
     ],
     "language": "python",
     "metadata": {},
     "outputs": [],
     "prompt_number": 44
    },
    {
     "cell_type": "code",
     "collapsed": false,
     "input": [
      "### Get Stack Count, Width & Height \n",
      "myStackCount = 0\n",
      "myWidth = 0\n",
      "myHeight = 0\n",
      "for i in os.listdir(myDirectory):\n",
      "    myStackCount +=1 \n",
      "myFirstFile = open(myDirectory + '/' + os.listdir(myDirectory)[0],\"r\")\n",
      "myFirstImage = Image.open(myFirstFile)\n",
      "myWidth = myFirstImage.size[0]\n",
      "myHeight = myFirstImage.size[1]\n",
      "print \"myStackCount is \" + str(myStackCount)\n",
      "print \"myWidth is \" + str(myWidth)\n",
      "print \"myHeight is \" + str(myHeight)"
     ],
     "language": "python",
     "metadata": {},
     "outputs": []
    },
    {
     "cell_type": "code",
     "collapsed": false,
     "input": [
      "### Initialize 3d Matrix \n",
      "myMatrix = np.zeros((myHeight,myWidth,myStackCount),np.int32) \n",
      "### Loop and populate matrix\n",
      "k = 0\n",
      "for myFile in os.listdir(myDirectory):\n",
      "    myFile = open(myDirectory + '/' + myFile,\"r\")\n",
      "    myImage = Image.open(myFile)\n",
      "    #Loop through width\n",
      "    for j in range(0,myWidth):\n",
      "        #loop through height\n",
      "        for i in range(0,myHeight):\n",
      "            myMatrix[i,j,k] = myImage.getpixel((j,i))\n",
      "    k += 1\n",
      "    \n",
      "### CSV test\n",
      "myCSVw = csv.writer(open(\"myfile.csv\",\"w\"))\n",
      "myCSVw.writerows((myMatrix[:,:,0]))"
     ],
     "language": "python",
     "metadata": {},
     "outputs": [
      {
       "output_type": "stream",
       "stream": "stdout",
       "text": [
        "myStackCount is 5\n",
        "myWidth is 185\n",
        "myHeight is 150\n"
       ]
      }
     ],
     "prompt_number": 51
    },
    {
     "cell_type": "code",
     "collapsed": false,
     "input": [
      "\n",
      "# find cross product\n",
      "def myCrossProduct(v1,v2,v3):\n",
      "    a = [v2[0]-v1[0],v2[1]-v1[1],v2[2]-v1[2]]\n",
      "    b = [v3[0]-v1[0],v3[1]-v1[1],v3[2]-v1[2]]\n",
      "    return np.cross(a,b)\n",
      "print myCrossProduct([0,0,0],[1,0,0],[0,1,0])\n",
      "   "
     ],
     "language": "python",
     "metadata": {},
     "outputs": [
      {
       "output_type": "stream",
       "stream": "stdout",
       "text": [
        "[0 0 1]\n"
       ]
      }
     ],
     "prompt_number": 52
    },
    {
     "cell_type": "code",
     "collapsed": false,
     "input": [
      "#Based on code from http://code.activestate.com/recipes/578246-stl-writer/\n",
      "\n",
      "\n",
      "ASCII_FACET = \"\"\"facet normal 0 0 0\n",
      "outer loop\n",
      "vertex {face[0][0]:.4f} {face[0][1]:.4f} {face[0][2]:.4f}\n",
      "vertex {face[1][0]:.4f} {face[1][1]:.4f} {face[1][2]:.4f}\n",
      "vertex {face[2][0]:.4f} {face[2][1]:.4f} {face[2][2]:.4f}\n",
      "endloop\n",
      "endfacet\n",
      "\"\"\"\n",
      "\n",
      "BINARY_HEADER =\"80sI\"\n",
      "BINARY_FACET = \"12fH\""
     ],
     "language": "python",
     "metadata": {},
     "outputs": [],
     "prompt_number": 55
    },
    {
     "cell_type": "code",
     "collapsed": false,
     "input": [
      "class ASCII_STL_Writer(object):\n",
      "    \"\"\" Export 3D objects build of 3 or 4 vertices as ASCII STL file.\n",
      "    \"\"\"\n",
      "    def __init__(self, stream):\n",
      "        self.fp = stream\n",
      "        self._write_header()\n",
      "\n",
      "    def _write_header(self):\n",
      "        self.fp.write(\"solid python\\n\")\n",
      "\n",
      "    def close(self):\n",
      "        self.fp.write(\"endsolid python\\n\")\n",
      "\n",
      "    def _write(self, face):\n",
      "        self.fp.write(ASCII_FACET.format(face=face))\n",
      "\n",
      "    def _split(self, face):\n",
      "        p1, p2, p3, p4 = face\n",
      "        return (p1, p2, p3), (p3, p4, p1)\n",
      "\n",
      "    def add_face(self, face):\n",
      "        \"\"\" Add one face with 3 or 4 vertices. \"\"\"\n",
      "        if len(face) == 4:\n",
      "            face1, face2 = self._split(face)\n",
      "            self._write(face1)\n",
      "            self._write(face2)\n",
      "        elif len(face) == 3:\n",
      "            self._write(face)\n",
      "        else:\n",
      "            raise ValueError('only 3 or 4 vertices for each face')\n",
      "\n",
      "    def add_faces(self, faces):\n",
      "        \"\"\" Add many faces. \"\"\"\n",
      "        for face in faces:\n",
      "            self.add_face(face)\n",
      "\n",
      "class Binary_STL_Writer(ASCII_STL_Writer):\n",
      "    \"\"\" Export 3D objects build of 3 or 4 vertices as binary STL file.\n",
      "    \"\"\"\n",
      "    def __init__(self, stream):\n",
      "        self.counter = 0\n",
      "        super(Binary_STL_Writer, self).__init__(stream)\n",
      "\n",
      "    def close(self):\n",
      "        self._write_header()\n",
      "\n",
      "    def _write_header(self):\n",
      "        self.fp.seek(0)\n",
      "        self.fp.write(struct.pack(BINARY_HEADER, b'Python Binary STL Writer', self.counter))\n",
      "\n",
      "    def _write(self, face):\n",
      "        self.counter += 1\n",
      "        data = [\n",
      "            0., 0., 0.,\n",
      "            face[0][0], face[0][1], face[0][2],\n",
      "            face[1][0], face[1][1], face[1][2],\n",
      "            face[2][0], face[2][1], face[2][2],\n",
      "            0\n",
      "        ]\n",
      "        self.fp.write(struct.pack(BINARY_FACET, *data))\n"
     ],
     "language": "python",
     "metadata": {},
     "outputs": [],
     "prompt_number": 56
    },
    {
     "cell_type": "code",
     "collapsed": false,
     "input": [
      "def example():\n",
      "    with open('myName.stl', 'wb') as fp:\n",
      "        # Initialize class and input header\n",
      "        writer = Binary_STL_Writer(fp)\n",
      "        # Populate Faces\n",
      "        for k in range (0,myStackCount):\n",
      "            for j in range (0,myWidth):\n",
      "                for i in range (0,myHeight):\n",
      "                    if(myMatrix[i,j,k])==1:\n",
      "                        p1 = (i, j, k * myZHeight )\n",
      "                        p2 = (i, j, k * myZHeight + myZHeight  )\n",
      "                        p3 = (i, j+1, k * myZHeight )\n",
      "                        p4 = (i, j+1,k * myZHeight + myZHeight )\n",
      "                        p5 = (i+1, j, k * myZHeight )\n",
      "                        p6 = (i+1, j,k * myZHeight + myZHeight )\n",
      "                        p7 = (i+1, j+1, k * myZHeight )\n",
      "                        p8 = (i+1, j+1,k * myZHeight + myZHeight )\n",
      "                    # define the 6 cube faces\n",
      "                    # faces just lists of 3 or 4 vertices\n",
      "                        myResult =  [\n",
      "                                    [p1, p5, p7, p3],\n",
      "                                    [p1, p5, p6, p2],\n",
      "                                    [p5, p7, p8, p6],\n",
      "                                    [p7, p8, p4, p3],\n",
      "                                    [p1, p3, p4, p2],\n",
      "                                    [p2, p6, p8, p4],\n",
      "                                    ]\n",
      "                        writer.add_faces(myResult)\n",
      "        writer.close()"
     ],
     "language": "python",
     "metadata": {},
     "outputs": [],
     "prompt_number": 59
    },
    {
     "cell_type": "code",
     "collapsed": false,
     "input": [
      "if __name__ == '__main__':\n",
      "    example()"
     ],
     "language": "python",
     "metadata": {},
     "outputs": [],
     "prompt_number": 60
    },
    {
     "cell_type": "code",
     "collapsed": false,
     "input": [],
     "language": "python",
     "metadata": {},
     "outputs": []
    }
   ],
   "metadata": {}
  }
 ]
}