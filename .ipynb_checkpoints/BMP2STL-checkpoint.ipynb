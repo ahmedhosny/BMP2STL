{
 "metadata": {
  "name": "",
  "signature": "sha256:9fbff253d488ad0ff2782063b041b09e683ce0027576250c4f596294e7a9cf25"
 },
 "nbformat": 3,
 "nbformat_minor": 0,
 "worksheets": [
  {
   "cells": [
    {
     "cell_type": "code",
     "collapsed": false,
     "input": [
      "from PIL import Image\n",
      "import numpy as np\n",
      "import csv\n",
      "myfile = open(\"myBMP.bmp\",\"r\")\n",
      "myImage = Image.open(myfile)\n",
      "# myImage.size[0] is width\n",
      "# myImage.size[1] is height\n",
      "myMatrix = np.zeros((myImage.size[1],myImage.size[0]),np.int32) \n",
      "#Loop through width\n",
      "for j in range(0,myImage.size[0]):\n",
      "    #loop through height\n",
      "    for i in range(0,myImage.size[1]):\n",
      "        myMatrix[i,j] = myImage.getpixel((j,i))\n",
      "print myMatrix.shape\n",
      "myCSVw = csv.writer(open(\"myfile.csv\",\"w\"))\n",
      "myCSVw.writerows((myMatrix))\n",
      "\n",
      "\n",
      "\n"
     ],
     "language": "python",
     "metadata": {},
     "outputs": [
      {
       "output_type": "stream",
       "stream": "stdout",
       "text": [
        "[[1 1 1 ..., 1 1 1]\n",
        " [1 1 1 ..., 1 1 1]\n",
        " [1 1 1 ..., 1 1 1]\n",
        " ..., \n",
        " [1 1 1 ..., 1 1 1]\n",
        " [1 1 1 ..., 1 1 1]\n",
        " [1 1 1 ..., 1 1 1]]\n",
        "1\n",
        "(150L, 185L)\n"
       ]
      }
     ],
     "prompt_number": 1
    },
    {
     "cell_type": "code",
     "collapsed": false,
     "input": [],
     "language": "python",
     "metadata": {},
     "outputs": [],
     "prompt_number": 12
    },
    {
     "cell_type": "code",
     "collapsed": false,
     "input": [],
     "language": "python",
     "metadata": {},
     "outputs": []
    }
   ],
   "metadata": {}
  }
 ]
}