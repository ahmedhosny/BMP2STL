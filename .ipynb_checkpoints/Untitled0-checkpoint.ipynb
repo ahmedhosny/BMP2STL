{
 "metadata": {
  "name": "",
  "signature": "sha256:6cc8ddf6de0fc0945986a6dd87f1e4b938596c8f5f64cb3115b070e316b5066e"
 },
 "nbformat": 3,
 "nbformat_minor": 0,
 "worksheets": []
}