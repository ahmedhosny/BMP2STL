{
 "metadata": {
  "name": "",
  "signature": "sha256:bebd0ffebc150601db99f6e3e86b641135185afe9972261d9db4d045ad706ee0"
 },
 "nbformat": 3,
 "nbformat_minor": 0,
 "worksheets": [
  {
   "cells": [
    {
     "cell_type": "code",
     "collapsed": false,
     "input": [
      "import zipfile as zf\n",
      "import requests as rq\n",
      "import StringIO as sio\n",
      "import pandas as pd\n",
      "import linecache as lc\n",
      "\n"
     ],
     "language": "python",
     "metadata": {},
     "outputs": [],
     "prompt_number": 51
    },
    {
     "cell_type": "code",
     "collapsed": false,
     "input": [
      "myURL = rq.get(\"http://apps1.eere.energy.gov/buildings/energyplus/weatherdata/4_north_and_central_america_wmo_region_4/1_usa/USA_MA_Boston-Logan.Intl.AP.725090_TMY3.zip\")\n",
      "myZipFile = zf.ZipFile(sio.StringIO(myURL.content))\n",
      "#this needs work\n",
      "myFile = myZipFile.extract(\"USA_MA_Boston-Logan.Intl.AP.725090_TMY3.epw\")\n",
      "myOpenedFile = open(myFile, 'r')\n",
      "#myLine = lc.getline(myFile,9)\n",
      "#print myLine\n",
      "#myTable = pd.DataFrame.from_items(myLine)\n",
      "\n",
      "lines=myOpenedFile.readlines()\n",
      "print lines[9:12]\n",
      "\n",
      "myCSV = open('myCSV.csv', \"w\")\n",
      "myCSV.write(str(lines[9:12]))\n",
      "\n"
     ],
     "language": "python",
     "metadata": {},
     "outputs": [
      {
       "output_type": "stream",
       "stream": "stdout",
       "text": [
        "['1976,1,1,2,0,?9?9?9?9E0?9?9?9?9?9?9?9?9?9?9?9?9?9?9?9*9*9*9*9*9,1.7,-3.9,67,100800,0,0,290,0,0,0,0,0,0,0,350,5.7,10,10,19.3,3960,9,999999999,89,0.0890,0,88,999.000,999.0,99.0\\n', '1976,1,1,3,0,?9?9?9?9E0?9?9?9?9?9?9?9?9?9?9?9?9?9?9?9*9*9*9*9*9,1.1,-3.9,70,100800,0,0,287,0,0,0,0,0,0,0,360,6.2,10,10,20.9,3960,9,999999999,89,0.0890,0,88,999.000,999.0,99.0\\n', '1976,1,1,4,0,?9?9?9?9E0?9?9?9?9?9?9?9?9?9?9?9?9?9?9?9*9*9*9*9*9,1.1,-3.9,70,100700,0,0,287,0,0,0,0,0,0,0,10,5.7,10,10,20.9,3960,9,999999999,89,0.0890,0,88,999.000,999.0,99.0\\n']\n"
       ]
      }
     ],
     "prompt_number": 67
    },
    {
     "cell_type": "code",
     "collapsed": false,
     "input": [],
     "language": "python",
     "metadata": {},
     "outputs": []
    }
   ],
   "metadata": {}
  }
 ]
}