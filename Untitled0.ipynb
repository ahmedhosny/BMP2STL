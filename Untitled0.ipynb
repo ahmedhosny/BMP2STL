{
 "metadata": {
  "name": "",
  "signature": "sha256:f385f29d5927f391f065afd731c5525086975dc6a9254a61c51ac44f52d62ded"
 },
 "nbformat": 3,
 "nbformat_minor": 0,
 "worksheets": [
  {
   "cells": [
    {
     "cell_type": "code",
     "collapsed": false,
     "input": [
      "import matplotlib as plt\n",
      "def sf2d(n,a):\n",
      "    u=[0:.001:2*pi];\n",
      "    raux=abs(1/a(1).*abs(cos(n(1)*u/4))).^n(3)+abs(1/a(2).*abs(sin(n(1)*u/4))).^n(4);\n",
      "    r=abs(raux).^(-1/n(2));\n",
      "    x=r.*cos(u);\n",
      "    y=r.*sin(u);\n",
      "    plot(x,y);\n"
     ],
     "language": "python",
     "metadata": {},
     "outputs": [
      {
       "ename": "SyntaxError",
       "evalue": "invalid syntax (<ipython-input-1-747194bb4aeb>, line 3)",
       "output_type": "pyerr",
       "traceback": [
        "\u001b[1;36m  File \u001b[1;32m\"<ipython-input-1-747194bb4aeb>\"\u001b[1;36m, line \u001b[1;32m3\u001b[0m\n\u001b[1;33m    u=[0:.001:2*pi];\u001b[0m\n\u001b[1;37m        ^\u001b[0m\n\u001b[1;31mSyntaxError\u001b[0m\u001b[1;31m:\u001b[0m invalid syntax\n"
       ]
      }
     ],
     "prompt_number": 1
    },
    {
     "cell_type": "code",
     "collapsed": false,
     "input": [],
     "language": "python",
     "metadata": {},
     "outputs": []
    }
   ],
   "metadata": {}
  }
 ]
}